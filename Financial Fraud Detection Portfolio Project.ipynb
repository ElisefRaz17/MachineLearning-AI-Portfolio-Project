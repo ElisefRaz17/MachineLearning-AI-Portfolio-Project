{
 "cells": [
  {
   "cell_type": "code",
   "execution_count": 135,
   "id": "8b3d39a7-a339-45e2-9798-2c25bbde2868",
   "metadata": {
    "tags": []
   },
   "outputs": [],
   "source": [
    "import pandas as pd\n",
    "import csv\n",
    "import numpy as np\n",
    "from sklearn import preprocessing\n",
    "import matplotlib.pyplot as plt\n",
    "from sklearn.linear_model import LogisticRegression\n",
    "from sklearn.model_selection import train_test_split\n",
    "import seaborn as sns\n",
    "from sklearn.ensemble import RandomForestClassifier\n",
    "from sklearn.metrics import classification_report\n",
    "from sklearn.linear_model import LinearRegression, LogisticRegression\n",
    "from sklearn.metrics import r2_score, classification_report, confusion_matrix, accuracy_score, roc_auc_score, roc_curve, precision_recall_curve, average_precision_score\n"
   ]
  },
  {
   "cell_type": "code",
   "execution_count": 34,
   "id": "41c7c882-8f62-4fb5-b670-720b7f3b1a4c",
   "metadata": {
    "tags": []
   },
   "outputs": [],
   "source": [
    "data = pd.read_excel('Financial Fraud Detection Data.xlsx')"
   ]
  },
  {
   "cell_type": "code",
   "execution_count": 35,
   "id": "d0d6d2ac-a1a6-40aa-9424-5f01c969b219",
   "metadata": {},
   "outputs": [
    {
     "name": "stdout",
     "output_type": "stream",
     "text": [
      "   step      type    amount     nameOrig  oldbalanceOrg  newbalanceOrig  \\\n",
      "0     1   PAYMENT   9839.64  C1231006815       170136.0       160296.36   \n",
      "1     1   PAYMENT   1864.28  C1666544295        21249.0        19384.72   \n",
      "2     1  TRANSFER    181.00  C1305486145          181.0            0.00   \n",
      "3     1  CASH_OUT    181.00   C840083671          181.0            0.00   \n",
      "4     1   PAYMENT  11668.14  C2048537720        41554.0        29885.86   \n",
      "\n",
      "      nameDest  oldbalanceDest  newbalanceDest  isFraud  isFlaggedFraud  \n",
      "0  M1979787155             0.0             0.0        0               0  \n",
      "1  M2044282225             0.0             0.0        0               0  \n",
      "2   C553264065             0.0             0.0        1               0  \n",
      "3    C38997010         21182.0             0.0        1               0  \n",
      "4  M1230701703             0.0             0.0        0               0  \n"
     ]
    }
   ],
   "source": [
    "print(data.head())"
   ]
  },
  {
   "cell_type": "code",
   "execution_count": 38,
   "id": "55583158-d937-45a5-9820-36c037eed2e1",
   "metadata": {},
   "outputs": [
    {
     "name": "stdout",
     "output_type": "stream",
     "text": [
      "step              0\n",
      "type              0\n",
      "amount            0\n",
      "nameOrig          0\n",
      "oldbalanceOrg     0\n",
      "newbalanceOrig    0\n",
      "nameDest          0\n",
      "oldbalanceDest    0\n",
      "newbalanceDest    0\n",
      "isFraud           0\n",
      "isFlaggedFraud    0\n",
      "dtype: int64\n"
     ]
    }
   ],
   "source": [
    "print(data.isna().sum())"
   ]
  },
  {
   "cell_type": "code",
   "execution_count": 39,
   "id": "3a3ec808-729f-45be-905a-c873d71206a5",
   "metadata": {
    "tags": []
   },
   "outputs": [
    {
     "name": "stdout",
     "output_type": "stream",
     "text": [
      "step                int64\n",
      "type               object\n",
      "amount            float64\n",
      "nameOrig           object\n",
      "oldbalanceOrg     float64\n",
      "newbalanceOrig    float64\n",
      "nameDest           object\n",
      "oldbalanceDest    float64\n",
      "newbalanceDest    float64\n",
      "isFraud             int64\n",
      "isFlaggedFraud      int64\n",
      "dtype: object\n"
     ]
    }
   ],
   "source": [
    "print(data.dtypes)"
   ]
  },
  {
   "cell_type": "code",
   "execution_count": 47,
   "id": "894253d0-f4a8-41fb-b346-a1319254aece",
   "metadata": {},
   "outputs": [
    {
     "name": "stdout",
     "output_type": "stream",
     "text": [
      "Percentage of transactions classified as fraud: 1.0050251256281406\n",
      "Count of transactions clasified as fraud: 2\n",
      "Percentage of transactions classified as no fraud: 98.99497487437185\n",
      "Count of transactions classified as not fraud: 197\n"
     ]
    }
   ],
   "source": [
    "#percentage of transactions classified as fraud\n",
    "fraud = len(data[data['isFraud'] == 1])\n",
    "percent_fraud = (len(data[data['isFraud']==1])/len(data['isFraud'])) * 100\n",
    "print('Percentage of transactions classified as fraud:',percent_fraud)\n",
    "print('Count of transactions clasified as fraud:',fraud)\n",
    "\n",
    "#percentage of transacction classified as not fraud\n",
    "no_fraud = len(data[data['isFraud'] == 0])\n",
    "percent_no_fraud = (len(data[data['isFraud']==0])/len(data['isFraud'])) * 100\n",
    "print('Percentage of transactions classified as no fraud:',percent_no_fraud)\n",
    "print(\"Count of transactions classified as not fraud:\",no_fraud)"
   ]
  },
  {
   "cell_type": "code",
   "execution_count": 53,
   "id": "dc4f483a-98d9-490a-87d1-2e75a0104ff1",
   "metadata": {},
   "outputs": [
    {
     "data": {
      "text/html": [
       "<div>\n",
       "<style scoped>\n",
       "    .dataframe tbody tr th:only-of-type {\n",
       "        vertical-align: middle;\n",
       "    }\n",
       "\n",
       "    .dataframe tbody tr th {\n",
       "        vertical-align: top;\n",
       "    }\n",
       "\n",
       "    .dataframe thead th {\n",
       "        text-align: right;\n",
       "    }\n",
       "</style>\n",
       "<table border=\"1\" class=\"dataframe\">\n",
       "  <thead>\n",
       "    <tr style=\"text-align: right;\">\n",
       "      <th></th>\n",
       "      <th>step</th>\n",
       "      <th>amount</th>\n",
       "      <th>oldbalanceOrg</th>\n",
       "      <th>newbalanceOrig</th>\n",
       "      <th>oldbalanceDest</th>\n",
       "      <th>newbalanceDest</th>\n",
       "      <th>isFlaggedFraud</th>\n",
       "    </tr>\n",
       "    <tr>\n",
       "      <th>isFraud</th>\n",
       "      <th></th>\n",
       "      <th></th>\n",
       "      <th></th>\n",
       "      <th></th>\n",
       "      <th></th>\n",
       "      <th></th>\n",
       "      <th></th>\n",
       "    </tr>\n",
       "  </thead>\n",
       "  <tbody>\n",
       "    <tr>\n",
       "      <th>0</th>\n",
       "      <td>1.0</td>\n",
       "      <td>109202.608071</td>\n",
       "      <td>43289.710609</td>\n",
       "      <td>37252.427513</td>\n",
       "      <td>321718.643807</td>\n",
       "      <td>1.316701e+06</td>\n",
       "      <td>0.0</td>\n",
       "    </tr>\n",
       "    <tr>\n",
       "      <th>1</th>\n",
       "      <td>1.0</td>\n",
       "      <td>181.000000</td>\n",
       "      <td>181.000000</td>\n",
       "      <td>0.000000</td>\n",
       "      <td>10591.000000</td>\n",
       "      <td>0.000000e+00</td>\n",
       "      <td>0.0</td>\n",
       "    </tr>\n",
       "  </tbody>\n",
       "</table>\n",
       "</div>"
      ],
      "text/plain": [
       "         step         amount  oldbalanceOrg  newbalanceOrig  oldbalanceDest  \\\n",
       "isFraud                                                                       \n",
       "0         1.0  109202.608071   43289.710609    37252.427513   321718.643807   \n",
       "1         1.0     181.000000     181.000000        0.000000    10591.000000   \n",
       "\n",
       "         newbalanceDest  isFlaggedFraud  \n",
       "isFraud                                  \n",
       "0          1.316701e+06             0.0  \n",
       "1          0.000000e+00             0.0  "
      ]
     },
     "execution_count": 53,
     "metadata": {},
     "output_type": "execute_result"
    }
   ],
   "source": [
    "#average of amount of transactions classified as fraud or not fraud\n",
    "data.groupby('isFraud').mean()"
   ]
  },
  {
   "cell_type": "code",
   "execution_count": 54,
   "id": "81b77412-86a0-42a3-b520-2ea39dbd3fa4",
   "metadata": {},
   "outputs": [
    {
     "data": {
      "text/html": [
       "<div>\n",
       "<style scoped>\n",
       "    .dataframe tbody tr th:only-of-type {\n",
       "        vertical-align: middle;\n",
       "    }\n",
       "\n",
       "    .dataframe tbody tr th {\n",
       "        vertical-align: top;\n",
       "    }\n",
       "\n",
       "    .dataframe thead th {\n",
       "        text-align: right;\n",
       "    }\n",
       "</style>\n",
       "<table border=\"1\" class=\"dataframe\">\n",
       "  <thead>\n",
       "    <tr style=\"text-align: right;\">\n",
       "      <th></th>\n",
       "      <th>step</th>\n",
       "      <th>amount</th>\n",
       "      <th>oldbalanceOrg</th>\n",
       "      <th>newbalanceOrig</th>\n",
       "      <th>oldbalanceDest</th>\n",
       "      <th>newbalanceDest</th>\n",
       "      <th>isFraud</th>\n",
       "      <th>isFlaggedFraud</th>\n",
       "    </tr>\n",
       "    <tr>\n",
       "      <th>type</th>\n",
       "      <th></th>\n",
       "      <th></th>\n",
       "      <th></th>\n",
       "      <th></th>\n",
       "      <th></th>\n",
       "      <th></th>\n",
       "      <th></th>\n",
       "      <th></th>\n",
       "    </tr>\n",
       "  </thead>\n",
       "  <tbody>\n",
       "    <tr>\n",
       "      <th>CASH_OUT</th>\n",
       "      <td>1.0</td>\n",
       "      <td>129090.103239</td>\n",
       "      <td>10632.216620</td>\n",
       "      <td>2637.732817</td>\n",
       "      <td>625023.491972</td>\n",
       "      <td>1.976754e+06</td>\n",
       "      <td>0.014085</td>\n",
       "      <td>0.0</td>\n",
       "    </tr>\n",
       "    <tr>\n",
       "      <th>DEBIT</th>\n",
       "      <td>1.0</td>\n",
       "      <td>5091.462143</td>\n",
       "      <td>96292.142857</td>\n",
       "      <td>92006.705714</td>\n",
       "      <td>92514.558571</td>\n",
       "      <td>2.358598e+04</td>\n",
       "      <td>0.000000</td>\n",
       "      <td>0.0</td>\n",
       "    </tr>\n",
       "    <tr>\n",
       "      <th>PAYMENT</th>\n",
       "      <td>1.0</td>\n",
       "      <td>4886.866744</td>\n",
       "      <td>71593.072326</td>\n",
       "      <td>67986.652442</td>\n",
       "      <td>0.000000</td>\n",
       "      <td>0.000000e+00</td>\n",
       "      <td>0.000000</td>\n",
       "      <td>0.0</td>\n",
       "    </tr>\n",
       "    <tr>\n",
       "      <th>TRANSFER</th>\n",
       "      <td>1.0</td>\n",
       "      <td>423440.266071</td>\n",
       "      <td>9587.621071</td>\n",
       "      <td>589.400000</td>\n",
       "      <td>633138.681429</td>\n",
       "      <td>4.239653e+06</td>\n",
       "      <td>0.035714</td>\n",
       "      <td>0.0</td>\n",
       "    </tr>\n",
       "  </tbody>\n",
       "</table>\n",
       "</div>"
      ],
      "text/plain": [
       "          step         amount  oldbalanceOrg  newbalanceOrig  oldbalanceDest  \\\n",
       "type                                                                           \n",
       "CASH_OUT   1.0  129090.103239   10632.216620     2637.732817   625023.491972   \n",
       "DEBIT      1.0    5091.462143   96292.142857    92006.705714    92514.558571   \n",
       "PAYMENT    1.0    4886.866744   71593.072326    67986.652442        0.000000   \n",
       "TRANSFER   1.0  423440.266071    9587.621071      589.400000   633138.681429   \n",
       "\n",
       "          newbalanceDest   isFraud  isFlaggedFraud  \n",
       "type                                                \n",
       "CASH_OUT    1.976754e+06  0.014085             0.0  \n",
       "DEBIT       2.358598e+04  0.000000             0.0  \n",
       "PAYMENT     0.000000e+00  0.000000             0.0  \n",
       "TRANSFER    4.239653e+06  0.035714             0.0  "
      ]
     },
     "execution_count": 54,
     "metadata": {},
     "output_type": "execute_result"
    }
   ],
   "source": [
    "data.groupby('type').mean()"
   ]
  },
  {
   "cell_type": "code",
   "execution_count": 55,
   "id": "5fff7164-f9bc-46b3-9b0b-64f23ed9f135",
   "metadata": {},
   "outputs": [
    {
     "data": {
      "image/png": "[encoded data removed]",
      "text/plain": [
       "<Figure size 432x288 with 1 Axes>"
      ]
     },
     "metadata": {
      "needs_background": "light"
     },
     "output_type": "display_data"
    }
   ],
   "source": [
    "%matplotlib inline\n",
    "pd.crosstab(data.type,data.isFraud).plot(kind='bar')\n",
    "plt.title('Transaction Type for Fraud Classification')\n",
    "plt.xlabel('Fraud Classification')\n",
    "plt.ylabel('Transaction Type Frequency')\n",
    "plt.savefig('transaction_fre_type')"
   ]
  },
  {
   "cell_type": "code",
   "execution_count": 70,
   "id": "9c322001-26b5-4c73-952f-537da853f0f6",
   "metadata": {},
   "outputs": [
    {
     "data": {
      "image/png": "[encoded data removed]",
      "text/plain": [
       "<Figure size 432x288 with 1 Axes>"
      ]
     },
     "metadata": {
      "needs_background": "light"
     },
     "output_type": "display_data"
    }
   ],
   "source": [
    "x = data['type']\n",
    "y = data['amount']\n",
    "plt.scatter(x,y,alpha=0.5)\n",
    "plt.show()\n"
   ]
  },
  {
   "cell_type": "code",
   "execution_count": 133,
   "id": "3add865b-bab2-47a2-b461-6e3468332259",
   "metadata": {},
   "outputs": [],
   "source": [
    "#label encoder for type column because str dtype is not accepted in training model\n",
    "cols = ['type', 'nameOrig', 'nameDest']\n",
    "data[cols]= data[cols].apply(preprocessing.LabelEncoder().fit_transform)\n",
    "#label_encoder = preprocessing.LabelEncoder()\n",
    "#data['type'] = label_encoder.fit_transform(data['type'])\n",
    "#data['type'].unique()\n",
    "\n"
   ]
  },
  {
   "cell_type": "code",
   "execution_count": null,
   "id": "9428e0f1-1073-4e77-b981-866f1d6ad552",
   "metadata": {},
   "outputs": [],
   "source": []
  },
  {
   "cell_type": "code",
   "execution_count": 162,
   "id": "3cf9e76c-05b5-4d3e-97bd-429d515dda72",
   "metadata": {},
   "outputs": [],
   "source": [
    "X = data.drop(\"isFraud\", axis=1)\n",
    "y = data[\"isFraud\"]\n"
   ]
  },
  {
   "cell_type": "code",
   "execution_count": 137,
   "id": "fce5c20d-459e-4ca7-a4f2-5eac88b68c62",
   "metadata": {},
   "outputs": [],
   "source": [
    "#split the data into training and testing sets for Random Forest classifier\n",
    "X_train, X_test, y_train, y_test = train_test_split(X, y, test_size=0.2, random_state=42)"
   ]
  },
  {
   "cell_type": "code",
   "execution_count": 145,
   "id": "46bb07fe-b41f-4616-8a37-656763efa0d3",
   "metadata": {},
   "outputs": [],
   "source": [
    "#split the features and labels into train and test data\n",
    "X_train, X_test, y_train, y_test = train_test_split(X, y, test_size=0.2)"
   ]
  },
  {
   "cell_type": "code",
   "execution_count": 163,
   "id": "352044f6-9c3a-4dc2-a040-71ace648436e",
   "metadata": {},
   "outputs": [],
   "source": [
    "X_train, X_test, y_train, y_test = train_test_split(X, y, test_size=0.3, random_state=0)"
   ]
  },
  {
   "cell_type": "code",
   "execution_count": 164,
   "id": "60c21526-a0ee-4675-83a0-65d2308c014b",
   "metadata": {},
   "outputs": [],
   "source": [
    "model = LogisticRegression(solver='liblinear')"
   ]
  },
  {
   "cell_type": "code",
   "execution_count": 121,
   "id": "4b48c68b-dda3-4e6c-bad9-b731ab86b033",
   "metadata": {},
   "outputs": [],
   "source": [
    "#Create a Random Forest classifier\n",
    "model = RandomForestClassifier()"
   ]
  },
  {
   "cell_type": "code",
   "execution_count": 165,
   "id": "125662e1-3c57-4ae3-ba2e-c147786e0479",
   "metadata": {},
   "outputs": [
    {
     "data": {
      "text/plain": [
       "LogisticRegression(solver='liblinear')"
      ]
     },
     "execution_count": 165,
     "metadata": {},
     "output_type": "execute_result"
    }
   ],
   "source": [
    "#Train the model\n",
    "model.fit(X_train, y_train)"
   ]
  },
  {
   "cell_type": "code",
   "execution_count": 166,
   "id": "e0f0458a-8401-4da5-bee2-1f43bbb5efb2",
   "metadata": {},
   "outputs": [],
   "source": [
    "predicted = model.predict(X_test)"
   ]
  },
  {
   "cell_type": "code",
   "execution_count": 167,
   "id": "5d0c1e99-4d83-4de0-b805-fba0690a73f3",
   "metadata": {},
   "outputs": [
    {
     "name": "stdout",
     "output_type": "stream",
     "text": [
      "Classification report:\n",
      "               precision    recall  f1-score   support\n",
      "\n",
      "           0       1.00      1.00      1.00        60\n",
      "\n",
      "    accuracy                           1.00        60\n",
      "   macro avg       1.00      1.00      1.00        60\n",
      "weighted avg       1.00      1.00      1.00        60\n",
      "\n",
      "Confusion matrix:\n",
      " [[60]]\n"
     ]
    }
   ],
   "source": [
    "# Print the classifcation report and confusion matrix\n",
    "print('Classification report:\\n', classification_report(y_test, predicted))\n",
    "conf_mat = confusion_matrix(y_true=y_test, y_pred=predicted)\n",
    "print('Confusion matrix:\\n', conf_mat)"
   ]
  }
 ],
 "metadata": {
  "kernelspec": {
   "display_name": "Python 3 (ipykernel)",
   "language": "python",
   "name": "python3"
  },
  "language_info": {
   "codemirror_mode": {
    "name": "ipython",
    "version": 3
   },
   "file_extension": ".py",
   "mimetype": "text/x-python",
   "name": "python",
   "nbconvert_exporter": "python",
   "pygments_lexer": "ipython3",
   "version": "3.9.12"
  }
 },
 "nbformat": 4,
 "nbformat_minor": 5
}
